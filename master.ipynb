{
 "cells": [
  {
   "cell_type": "code",
   "execution_count": 1,
   "metadata": {},
   "outputs": [],
   "source": [
    "import numpy as np\n",
    "from catan import Catan, CatanException, get_random_dice_arrangement, Player, Game, simulate_1p_game, simulate_1p_game_with_data\n",
    "import matplotlib.pyplot as plt\n",
    "from itertools import repeat\n",
    "import sys\n",
    "%matplotlib inline"
   ]
  },
  {
   "cell_type": "code",
   "execution_count": 2,
   "metadata": {},
   "outputs": [
    {
     "name": "stdout",
     "output_type": "stream",
     "text": [
      "Drawing...\n"
     ]
    },
    {
     "data": {
      "image/png": "[encoded data removed]",
      "text/plain": [
       "<Figure size 432x288 with 1 Axes>"
      ]
     },
     "metadata": {},
     "output_type": "display_data"
    }
   ],
   "source": [
    "width, height = 4,4\n",
    "dice = get_random_dice_arrangement(width, height)\n",
    "resources = np.random.randint(0, 3, (height, width))\n",
    "board = Catan(dice, resources, {6:0, 16:1}, {13:0}, {(6, 7):0, (7, 12):0, (12, 13):0, (16,17): 1})\n",
    "board.register_player()\n",
    "board.register_player()\n",
    "board.draw()"
   ]
  },
  {
   "cell_type": "code",
   "execution_count": 3,
   "metadata": {},
   "outputs": [],
   "source": [
    "def action(self):\n",
    "    goal = determine_goal(board, self)\n",
    "    \n",
    "    if self.get_settlements() == []:\n",
    "        (x,y) = (2, 2)\n",
    "        self.buy(\"settlement\", x, y) # we determined previously    \n",
    "        print(\"bought settlement at \" + \"(\" + str(x) + \",\" + str(y) + \")\")         \n",
    "    \n",
    "    if goal == \"settlement\":\n",
    "        (x, y) = self.preComp\n",
    "        if self.board.get_vertex_number(x, y) in [v for road in self.get_roads() for v in road] :\n",
    "            if self.if_can_buy(\"settlement\"):\n",
    "                self.buy(\"settlement\", x, y)\n",
    "                print(\"bought settlement at \" + \"(\" + str(x) + \",\" + str(y) + \")\") \n",
    "        elif len(self.get_settlements()) > 0 and self.if_can_buy(\"road\"):\n",
    "            (v0, v1) = optimal_road(self)\n",
    "            self.buy(\"road\", v0, v1)\n",
    "            print(\"bought road \" + str(v0) + str(v1))\n",
    "        else:\n",
    "            modified_trade(self, goal)\n",
    "\n",
    "    elif goal == \"city\":\n",
    "        if self.if_can_buy(\"city\"):\n",
    "            (x, y) = optimal_city(board)\n",
    "            self.buy(\"city\", x, y)\n",
    "    elif goal == \"card\":\n",
    "        if self.if_can_buy(\"card\"):\n",
    "            self.buy(\"card\")\n",
    "            print(\"bought card\")   \n",
    "        #trade policy\n",
    "        else:\n",
    "            modified_trade(self, goal)\n",
    "            \n",
    "    return"
   ]
  },
  {
   "cell_type": "code",
   "execution_count": 4,
   "metadata": {},
   "outputs": [],
   "source": [
    "def determine_goal(board, self):\n",
    "    buildings = [\"settlement\", \"city\", \"card\"]\n",
    "    goal = \"card\"\n",
    "    max_value = 0\n",
    "    for building in buildings:\n",
    "        time = hitting_time(board, building)\n",
    "#         usefulness = determine_usefulness(board, building, self)\n",
    "        usefulness = 0\n",
    "        curr_value = 1/time + usefulness\n",
    "        if curr_value > max_value:\n",
    "            goal = building\n",
    "            max_value = curr_value\n",
    "    \n",
    "    return goal"
   ]
  },
  {
   "cell_type": "code",
   "execution_count": 5,
   "metadata": {},
   "outputs": [],
   "source": [
    "def hitting_time(board, building):\n",
    "    if building == \"settlement\":\n",
    "        return 5\n",
    "    elif building == \"card\":\n",
    "        return np.random.randint(1, 7)\n",
    "    else:\n",
    "        return 20\n",
    "\n",
    "# def determine_usefulness(board, building, self):\n",
    "    "
   ]
  },
  {
   "cell_type": "code",
   "execution_count": 6,
   "metadata": {},
   "outputs": [],
   "source": [
    "def dumpPolicy(self, max_resources):\n",
    "    new_resources = np.minimum(self.resources, max_resources // 3)\n",
    "    return self.resources - new_resources"
   ]
  },
  {
   "cell_type": "code",
   "execution_count": 7,
   "metadata": {},
   "outputs": [],
   "source": [
    "def optimal_settlement(baseBoard):\n",
    "    # prefer middle of the board over edges\n",
    "    x = np.random.randint(1, baseBoard.width)\n",
    "    y = np.random.randint(1, baseBoard.height)\n",
    "    optSettlementLoc = (x,y)\n",
    "#     return optSettlementLoc\n",
    "    return (1, 1)"
   ]
  },
  {
   "cell_type": "code",
   "execution_count": 8,
   "metadata": {},
   "outputs": [],
   "source": [
    "def optimal_road(self):\n",
    "    goal = self.preComp\n",
    "    curr_settlements = self.get_settlements()\n",
    "    curr_roads = self.get_roads()\n",
    "    \n",
    "    # find closest road or settlement\n",
    "    closest = 0\n",
    "    closest_dist = 500\n",
    "    for s in curr_settlements:\n",
    "        coordinates = self.board.get_vertex_location(s)\n",
    "        dist = abs(goal[0] - coordinates[0]) + abs(goal[1] - coordinates[1])\n",
    "        if dist < closest_dist:\n",
    "            closest = s\n",
    "            closest_dist = dist\n",
    "    \n",
    "    for r in curr_roads:\n",
    "        for end in r:\n",
    "            r_end = self.board.get_vertex_location(end)\n",
    "            dist = abs(goal[0] - r_end[0]) + abs(goal[1] - r_end[1])\n",
    "            if dist < closest_dist:\n",
    "                closest = end\n",
    "                closest_dist = dist\n",
    "            \n",
    "\n",
    "    hor = goal[0] - self.board.get_vertex_location(closest)[0]\n",
    "    ver = goal[1] - self.board.get_vertex_location(closest)[1]    \n",
    "    v2 = closest\n",
    "    \n",
    "    if abs(hor) >= abs(ver):\n",
    "        if hor < 0:\n",
    "            v2 -= 1\n",
    "        elif hor > 0:\n",
    "            v2 += 1\n",
    "    else:\n",
    "        if ver < 0:\n",
    "            v2 -= 5\n",
    "        else:\n",
    "            v2 += 5\n",
    "    \n",
    "    return (self.board.get_vertex_location(closest), self.board.get_vertex_location(v2))"
   ]
  },
  {
   "cell_type": "code",
   "execution_count": 9,
   "metadata": {},
   "outputs": [],
   "source": [
    "def optimal_city(self):\n",
    "    x = np.random.randint(1, self.board.width)\n",
    "    y = np.random.randint(1, self.board.height)\n",
    "    optSettlementLoc = (x,y)\n",
    "    return optSettlementLoc\n",
    "    "
   ]
  },
  {
   "cell_type": "code",
   "execution_count": null,
   "metadata": {},
   "outputs": [],
   "source": [
    "def modified_trade(self, goal):\n",
    "    ports = [] #get list of ports and everything thats in it    \n",
    "\n",
    "    for e in self.get_settlements():\n",
    "        if self.board.is_port(e):\n",
    "            ports.append(self.board.which_port(e))\n",
    "    for e in self.get_cities():\n",
    "        if self.board.is_port(e):\n",
    "            ports.append(self.board.which_port(e))\n",
    "\n",
    "    trade_away = -1 \n",
    "    trade_for = -1\n",
    "    curr_best = hitting_time(self.resources, goal) #find hitting time of current state\n",
    "    trade = False\n",
    "    subtract = 0 \n",
    "\n",
    "    for i in range(len(self.resources)):\n",
    "        required = 4 #start off needing 4 resources for each\n",
    "        if i in ports: #seeing how many required to trade\n",
    "            required = 2\n",
    "        if 3 in ports:\n",
    "            required = min(required, 3)\n",
    "        if self.resources[i] >= required: #if have enough, try combinations of trading\n",
    "            for j in range(len(self.resources)): \n",
    "                if i == j:\n",
    "                    continue\n",
    "                potential = self.resources[:]#added in to make a copy of actual resources\n",
    "                potential[i] -= required #performs trade\n",
    "                potenital[j] += 1\n",
    "                new_time = hitting_time(potential, goal) #calculates new hitting time\n",
    "                if new_time < curr_best:\n",
    "                    curr_best = new_time \n",
    "                    trade_away = i\n",
    "                    trade_for = j\n",
    "                    trade = True\n",
    "                    subtract = required\n",
    "    if trade:\n",
    "        self.resources[trade_away] -= subtract\n",
    "        self.resources[trade_for] += 1"
   ]
  },
  {
   "cell_type": "code",
   "execution_count": 10,
   "metadata": {},
   "outputs": [],
   "source": [
    "# def tile_usefulness():\n",
    "    "
   ]
  },
  {
   "cell_type": "code",
   "execution_count": 11,
   "metadata": {},
   "outputs": [
    {
     "name": "stdout",
     "output_type": "stream",
     "text": [
      "bought settlement at (2,2)\n",
      "bought road (2, 2)(1, 2)\n",
      "bought road (1, 2)(1, 1)\n",
      "bought settlement at (1,1)\n",
      "bought settlement at (1,1)\n",
      "bought settlement at (1,1)\n",
      "bought settlement at (1,1)\n",
      "bought settlement at (1,1)\n",
      "bought card\n",
      "bought settlement at (1,1)\n",
      "bought card\n",
      "bought card\n",
      "bought card\n",
      "bought settlement at (1,1)\n",
      "bought settlement at (1,1)\n",
      "bought card\n",
      "bought settlement at (1,1)\n",
      "bought card\n",
      "bought settlement at (1,1)\n",
      "bought card\n",
      "bought settlement at (1,1)\n",
      "bought settlement at (1,1)\n",
      "bought settlement at (1,1)\n",
      "bought card\n"
     ]
    }
   ],
   "source": [
    "settlements, cities, roads, hands, live_points, dice_rolls = simulate_1p_game_with_data(action, dumpPolicy, optimal_settlement, board)\n",
    "\n",
    "def draw(t):\n",
    "    t = int(t)\n",
    "    live_board = Catan(board.dice, board.resources, [], [])\n",
    "    live_board.settlements = settlements[t]\n",
    "    live_board.cities = cities[t]\n",
    "    live_board.roads = roads[t]\n",
    "    print(\"turn:\", t)\n",
    "    print(\"points:\", live_points[t])\n",
    "    print(\"dice roll:\", dice_rolls[t])\n",
    "    print(\"resources:\", hands[t])\n",
    "    live_board.draw()"
   ]
  },
  {
   "cell_type": "code",
   "execution_count": 12,
   "metadata": {},
   "outputs": [
    {
     "data": {
      "application/vnd.jupyter.widget-view+json": {
       "model_id": "4e7a04b523004a33b35915e6c80c6cdf",
       "version_major": 2,
       "version_minor": 0
      },
      "text/plain": [
       "interactive(children=(IntSlider(value=81, description='t', max=162), Output()), _dom_classes=('widget-interact…"
      ]
     },
     "metadata": {},
     "output_type": "display_data"
    },
    {
     "data": {
      "text/plain": [
       "<function __main__.draw(t)>"
      ]
     },
     "execution_count": 12,
     "metadata": {},
     "output_type": "execute_result"
    }
   ],
   "source": [
    "from ipywidgets import *\n",
    "interact(draw, t=(0, len(live_points) - 1, 1))"
   ]
  },
  {
   "cell_type": "code",
   "execution_count": 13,
   "metadata": {},
   "outputs": [
    {
     "name": "stdout",
     "output_type": "stream",
     "text": [
      "Drawing...\n",
      "[[0. 0. 0.]\n",
      " [0. 0. 0.]\n",
      " [0. 0. 0.]\n",
      " [0. 0. 0.]\n",
      " [0. 0. 0.]\n",
      " [0. 0. 0.]\n",
      " [0. 0. 0.]\n",
      " [0. 0. 0.]\n",
      " [0. 0. 0.]\n",
      " [0. 0. 0.]\n",
      " [0. 0. 0.]]\n"
     ]
    },
    {
     "data": {
      "image/png": "[encoded data removed]",
      "text/plain": [
       "<Figure size 432x288 with 1 Axes>"
      ]
     },
     "metadata": {},
     "output_type": "display_data"
    }
   ],
   "source": [
    "board.draw()\n",
    "print(board.get_resources())\n",
    "\n",
    "# wood is brown, brick is red, grain is green \n",
    "# below is the resource outcome of a dice roll 2-12"
   ]
  },
  {
   "cell_type": "code",
   "execution_count": 14,
   "metadata": {},
   "outputs": [
    {
     "name": "stdout",
     "output_type": "stream",
     "text": [
      "[[0.         5.47058824 3.88235294 4.64705882]\n",
      " [4.88235294 7.47058824 5.47058824 4.47058824]\n",
      " [3.88235294 7.47058824 4.47058824 3.88235294]\n",
      " [6.88235294 6.88235294 6.64705882 2.64705882]]\n",
      "[[ 0.5         5.47058824  9.35294118  8.52941176  5.14705882]\n",
      " [ 4.88235294 17.82352941 23.70588235 25.11764706  9.11764706]\n",
      " [ 8.76470588 22.29411765 24.88235294 25.47058824  8.35294118]\n",
      " [10.76470588 18.47058824 18.29411765 17.64705882  6.52941176]\n",
      " [ 7.38235294 13.76470588 13.52941176  9.29411765  3.14705882]]\n"
     ]
    }
   ],
   "source": [
    "RESOURCE_SCORES = {0: 4/17, 1: 7/17, 2: 6/17, -1: 0}  ## MAKE SURE THESE ARE RIGHT. SHOULD BE WOOD BRICK GRAIN\n",
    "RESOURCE_WEIGHT = 7 # FOR TESTING\n",
    "DICE_SCORES = {2: 1/15, 12: 1/15, 3: 2/15, 11: 2/15, 4: 3/15, 10: 3/15, 5: 4/15, 9: 4/15, 6: 5/15, 8: 5/15, 7: 0}\n",
    "DICE_WEIGHT = 15 # FOR TESTING\n",
    "\n",
    "\n",
    "# Returns 2D array of board scores\n",
    "def make_board_scores(board):\n",
    "    scoreboard = [[] for _ in range(len(board.dice))]\n",
    "    for i in range(len(board.dice)):\n",
    "        for j in range(len(board.dice[0])):\n",
    "            calculate_tile_score\n",
    "            scoreboard[i].append(calculate_tile_score(board, i, j))\n",
    "            \n",
    "    return np.array(scoreboard)\n",
    "\n",
    "# Calculate the score of tile i, j on the board\n",
    "def calculate_tile_score(board, i, j):\n",
    "    resource_score = RESOURCE_SCORES[board.resources[i][j]]\n",
    "    dice_score = DICE_SCORES[board.dice[i][j]]\n",
    "    \n",
    "    return resource_score * RESOURCE_WEIGHT + dice_score * DICE_WEIGHT\n",
    "\n",
    "\n",
    "def make_settlement_scores(board, board_scores):\n",
    "    scoreboard = [[] for _ in range(len(board.dice) + 1)]\n",
    "    \n",
    "    for i in range(len(scoreboard)):\n",
    "        for j in range(len(board.dice[0]) + 1):\n",
    "            scoreboard[i].append(get_settlement_score(board, board_scores, i, j))\n",
    "    return np.array(scoreboard)\n",
    "\n",
    "def get_settlement_score(board, board_scores, i, j):\n",
    "    PORT_WEIGHT = .5\n",
    "    if i == 0 or i == len(board_scores):\n",
    "        if i == len(board_scores):  # To make indices line up\n",
    "            i -= 1\n",
    "            \n",
    "        if j == 0:\n",
    "            return board_scores[i][j] + PORT_WEIGHT\n",
    "        elif j == len(board_scores[0]):\n",
    "            return board_scores[i][j-1] + PORT_WEIGHT\n",
    "        else:\n",
    "            return board_scores[i][j] + board_scores[i][j-1]\n",
    "    elif j == 0 or j == len(board_scores[0]):\n",
    "        if j == len(board_scores[0]): # To make indices line up\n",
    "            j -= 1\n",
    "            \n",
    "        if i == len(board_scores):\n",
    "            return board_scores[i-1][j] + PORT_WEIGHT\n",
    "        else:\n",
    "            return board_scores[i-1][j] + board_scores[i][j]\n",
    "    elif i == len(board_scores) and j == len(board_scores[0]):\n",
    "        return board_scores[i-1][j-1] + PORT_WEIGHT\n",
    "    else:\n",
    "        return board_scores[j][i] + board_scores[j-1][i] + board_scores[j][i-1] + board_scores[j-1][i-1]\n",
    "        \n",
    "\n",
    "board_scores = make_board_scores(board)\n",
    "print(board_scores)\n",
    "settlement_scores = make_settlement_scores(board, board_scores)\n",
    "print(settlement_scores)"
   ]
  },
  {
   "cell_type": "code",
   "execution_count": 15,
   "metadata": {},
   "outputs": [
    {
     "name": "stdout",
     "output_type": "stream",
     "text": [
      "bought settlement at (2,2)\n",
      "bought road (2, 2)(1, 2)\n",
      "bought road (1, 2)(1, 1)\n",
      "bought card\n",
      "bought settlement at (1,1)\n",
      "bought settlement at (1,1)\n",
      "bought settlement at (1,1)\n",
      "bought settlement at (1,1)\n",
      "bought card\n",
      "bought settlement at (1,1)\n",
      "bought settlement at (1,1)\n",
      "bought settlement at (1,1)\n",
      "bought settlement at (1,1)\n",
      "bought settlement at (1,1)\n",
      "bought settlement at (1,1)\n",
      "bought settlement at (1,1)\n",
      "bought settlement at (1,1)\n",
      "bought card\n",
      "bought card\n",
      "bought settlement at (1,1)\n",
      "bought settlement at (1,1)\n",
      "bought settlement at (1,1)\n",
      "bought card\n",
      "bought settlement at (1,1)\n",
      "bought settlement at (1,1)\n",
      "bought settlement at (1,1)\n",
      "bought card\n",
      "bought settlement at (1,1)\n",
      "bought settlement at (1,1)\n",
      "bought settlement at (1,1)\n",
      "bought settlement at (1,1)\n",
      "bought card\n",
      "bought settlement at (1,1)\n",
      "bought settlement at (1,1)\n",
      "bought settlement at (1,1)\n",
      "bought settlement at (1,1)\n",
      "bought settlement at (1,1)\n",
      "bought card\n",
      "bought settlement at (2,2)\n",
      "bought road (2, 2)(1, 2)\n",
      "bought road (1, 2)(1, 1)\n",
      "bought card\n",
      "bought settlement at (1,1)\n",
      "bought settlement at (1,1)\n",
      "bought settlement at (1,1)\n",
      "bought settlement at (1,1)\n",
      "bought settlement at (1,1)\n",
      "bought card\n",
      "bought settlement at (1,1)\n",
      "bought settlement at (1,1)\n",
      "bought settlement at (1,1)\n",
      "bought card\n",
      "bought settlement at (1,1)\n",
      "bought settlement at (1,1)\n",
      "bought settlement at (1,1)\n",
      "bought settlement at (1,1)\n",
      "bought settlement at (1,1)\n",
      "bought settlement at (1,1)\n",
      "bought card\n",
      "bought settlement at (1,1)\n",
      "bought settlement at (1,1)\n",
      "bought settlement at (1,1)\n",
      "bought settlement at (1,1)\n",
      "bought settlement at (1,1)\n",
      "bought settlement at (1,1)\n",
      "bought card\n",
      "bought settlement at (1,1)\n",
      "bought settlement at (1,1)\n",
      "bought settlement at (1,1)\n",
      "bought settlement at (1,1)\n",
      "bought settlement at (1,1)\n",
      "bought card\n",
      "bought settlement at (1,1)\n",
      "bought settlement at (1,1)\n",
      "bought settlement at (1,1)\n",
      "bought settlement at (1,1)\n",
      "bought settlement at (1,1)\n",
      "bought settlement at (1,1)\n",
      "bought settlement at (1,1)\n",
      "bought card\n",
      "bought settlement at (1,1)\n",
      "bought settlement at (1,1)\n",
      "bought settlement at (1,1)\n",
      "bought settlement at (1,1)\n",
      "bought settlement at (1,1)\n",
      "bought settlement at (1,1)\n",
      "bought settlement at (1,1)\n",
      "bought settlement at (1,1)\n",
      "bought settlement at (1,1)\n",
      "bought card\n",
      "bought settlement at (2,2)\n",
      "bought road (2, 2)(1, 2)\n",
      "bought road (1, 2)(1, 1)\n",
      "bought card\n",
      "bought settlement at (1,1)\n",
      "bought settlement at (1,1)\n",
      "bought settlement at (1,1)\n",
      "bought settlement at (1,1)\n",
      "bought settlement at (1,1)\n",
      "bought settlement at (1,1)\n",
      "bought settlement at (1,1)\n",
      "bought settlement at (1,1)\n",
      "bought settlement at (1,1)\n",
      "bought settlement at (1,1)\n",
      "bought settlement at (1,1)\n",
      "bought settlement at (1,1)\n",
      "bought settlement at (1,1)\n",
      "bought card\n",
      "bought settlement at (1,1)\n",
      "bought card\n",
      "bought settlement at (1,1)\n",
      "bought settlement at (1,1)\n",
      "bought settlement at (1,1)\n",
      "bought settlement at (1,1)\n",
      "bought settlement at (1,1)\n",
      "bought settlement at (1,1)\n",
      "bought settlement at (1,1)\n",
      "bought card\n",
      "bought settlement at (1,1)\n",
      "bought settlement at (1,1)\n",
      "bought settlement at (1,1)\n",
      "bought card\n",
      "bought settlement at (1,1)\n",
      "bought settlement at (1,1)\n",
      "bought settlement at (1,1)\n",
      "bought settlement at (1,1)\n",
      "bought settlement at (1,1)\n",
      "bought settlement at (1,1)\n",
      "bought card\n",
      "bought settlement at (1,1)\n",
      "bought settlement at (1,1)\n",
      "bought settlement at (1,1)\n",
      "bought settlement at (1,1)\n",
      "bought card\n",
      "bought settlement at (1,1)\n",
      "bought settlement at (1,1)\n",
      "bought settlement at (1,1)\n",
      "bought settlement at (1,1)\n",
      "bought settlement at (1,1)\n",
      "bought card\n",
      "average turns to win: 163.0\n"
     ]
    }
   ],
   "source": [
    "num_trials = 3\n",
    "\n",
    "width, height = 4, 4\n",
    "dice = get_random_dice_arrangement(width, height)\n",
    "resources = np.random.randint(0, 3, (height, width))\n",
    "board = Catan(dice, resources)\n",
    "print(\"average turns to win: {}\".format(simulate_1p_game(action, dumpPolicy, optimal_settlement, board, num_trials)))"
   ]
  }
 ],
 "metadata": {
  "kernelspec": {
   "display_name": "Python 3",
   "language": "python",
   "name": "python3"
  },
  "language_info": {
   "codemirror_mode": {
    "name": "ipython",
    "version": 3
   },
   "file_extension": ".py",
   "mimetype": "text/x-python",
   "name": "python",
   "nbconvert_exporter": "python",
   "pygments_lexer": "ipython3",
   "version": "3.6.5"
  }
 },
 "nbformat": 4,
 "nbformat_minor": 2
}
